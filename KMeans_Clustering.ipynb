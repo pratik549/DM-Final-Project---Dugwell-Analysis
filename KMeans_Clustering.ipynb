{
 "cells": [
  {
   "cell_type": "markdown",
   "metadata": {},
   "source": [
    "# K Means Clustering "
   ]
  },
  {
   "cell_type": "code",
   "execution_count": 1,
   "metadata": {},
   "outputs": [],
   "source": [
    "#importing files\n",
    "import pandas as pd\n",
    "import numpy as np\n",
    "from copy import deepcopy\n",
    "import os"
   ]
  },
  {
   "cell_type": "markdown",
   "metadata": {},
   "source": [
    "### Setting path locations and other initializations for <font color =red> *Aggregation*<font>"
   ]
  },
  {
   "cell_type": "code",
   "execution_count": 2,
   "metadata": {},
   "outputs": [],
   "source": [
    "# setting path for the relevant locations\n",
    "\n",
    "current_dir = os.getcwd()                      # current working directory\n",
    "parent_dir = os.path.dirname(current_dir)      # parent directory\n",
    "data_set = parent_dir+'/data/'                  # setting the path for data directory\n",
    "plots = parent_dir+'/plots'                     # setting the path for plot directory"
   ]
  },
  {
   "cell_type": "code",
   "execution_count": 3,
   "metadata": {},
   "outputs": [
    {
     "data": {
      "text/html": [
       "<div>\n",
       "<style scoped>\n",
       "    .dataframe tbody tr th:only-of-type {\n",
       "        vertical-align: middle;\n",
       "    }\n",
       "\n",
       "    .dataframe tbody tr th {\n",
       "        vertical-align: top;\n",
       "    }\n",
       "\n",
       "    .dataframe thead th {\n",
       "        text-align: right;\n",
       "    }\n",
       "</style>\n",
       "<table border=\"1\" class=\"dataframe\">\n",
       "  <thead>\n",
       "    <tr style=\"text-align: right;\">\n",
       "      <th></th>\n",
       "      <th>State</th>\n",
       "      <th>Depth</th>\n",
       "      <th>OBC</th>\n",
       "      <th>Public or Group owned</th>\n",
       "      <th>Electric Pump</th>\n",
       "      <th>Own Savings</th>\n",
       "    </tr>\n",
       "  </thead>\n",
       "  <tbody>\n",
       "    <tr>\n",
       "      <th>0</th>\n",
       "      <td>ANDAMAN &amp; NICOBARS</td>\n",
       "      <td>0.013882</td>\n",
       "      <td>0.327586</td>\n",
       "      <td>0.370315</td>\n",
       "      <td>0.477511</td>\n",
       "      <td>0.396552</td>\n",
       "    </tr>\n",
       "    <tr>\n",
       "      <th>1</th>\n",
       "      <td>ANDHRA PRADESH</td>\n",
       "      <td>0.095147</td>\n",
       "      <td>0.465189</td>\n",
       "      <td>0.075197</td>\n",
       "      <td>0.405810</td>\n",
       "      <td>0.542277</td>\n",
       "    </tr>\n",
       "    <tr>\n",
       "      <th>2</th>\n",
       "      <td>ASSAM</td>\n",
       "      <td>0.609923</td>\n",
       "      <td>0.079070</td>\n",
       "      <td>0.400000</td>\n",
       "      <td>0.055814</td>\n",
       "      <td>0.418605</td>\n",
       "    </tr>\n",
       "    <tr>\n",
       "      <th>3</th>\n",
       "      <td>BIHAR</td>\n",
       "      <td>0.114603</td>\n",
       "      <td>0.460156</td>\n",
       "      <td>0.174717</td>\n",
       "      <td>0.116361</td>\n",
       "      <td>0.107663</td>\n",
       "    </tr>\n",
       "    <tr>\n",
       "      <th>4</th>\n",
       "      <td>CHHATISGARH</td>\n",
       "      <td>0.079264</td>\n",
       "      <td>0.393502</td>\n",
       "      <td>0.026254</td>\n",
       "      <td>0.809141</td>\n",
       "      <td>0.576085</td>\n",
       "    </tr>\n",
       "  </tbody>\n",
       "</table>\n",
       "</div>"
      ],
      "text/plain": [
       "                State     Depth       OBC  Public or Group owned  \\\n",
       "0  ANDAMAN & NICOBARS  0.013882  0.327586               0.370315   \n",
       "1      ANDHRA PRADESH  0.095147  0.465189               0.075197   \n",
       "2               ASSAM  0.609923  0.079070               0.400000   \n",
       "3               BIHAR  0.114603  0.460156               0.174717   \n",
       "4         CHHATISGARH  0.079264  0.393502               0.026254   \n",
       "\n",
       "   Electric Pump  Own Savings  \n",
       "0       0.477511     0.396552  \n",
       "1       0.405810     0.542277  \n",
       "2       0.055814     0.418605  \n",
       "3       0.116361     0.107663  \n",
       "4       0.809141     0.576085  "
      ]
     },
     "execution_count": 3,
     "metadata": {},
     "output_type": "execute_result"
    }
   ],
   "source": [
    "# reading input from the file\n",
    "data = pd.read_csv(data_set+'ClusterDataset.csv')\n",
    "data.head()"
   ]
  },
  {
   "cell_type": "code",
   "execution_count": 4,
   "metadata": {},
   "outputs": [],
   "source": [
    "label = data.State\n",
    "data_set = data.iloc[:, [1, 2, 3, 4, 5]].values\n",
    "# print(data_set)"
   ]
  },
  {
   "cell_type": "code",
   "execution_count": 5,
   "metadata": {},
   "outputs": [],
   "source": [
    "m = data_set.shape[0]\n",
    "n = data_set.shape[1]\n",
    "n_iter = 100\n",
    "# print(n, m)"
   ]
  },
  {
   "cell_type": "code",
   "execution_count": 6,
   "metadata": {},
   "outputs": [],
   "source": [
    "# number of clusters\n",
    "K = 6"
   ]
  },
  {
   "cell_type": "code",
   "execution_count": 7,
   "metadata": {},
   "outputs": [],
   "source": [
    "def Kmeans(K):\n",
    "    # Generate random centers, here we use sigma and mean to ensure it represent the whole data\n",
    "    mean = np.mean(data_set, axis=0)\n",
    "    std = np.std(data_set, axis=0)\n",
    "    centers = np.random.randn(K, n)*std + mean\n",
    "\n",
    "    centers_old = np.zeros(centers.shape)  # to store old centers\n",
    "    centers_new = deepcopy(centers)  # Store new centers\n",
    "\n",
    "    clusters = np.zeros(m)\n",
    "    distances = np.zeros((m, K))\n",
    "\n",
    "    error = np.linalg.norm(centers_new - centers_old)\n",
    "\n",
    "    # When, after an update, the estimate of that center stays the same, exit loop\n",
    "    while error != 0:\n",
    "        # Measure the distance to every center\n",
    "        for i in range(K):\n",
    "            distances[:, i] = np.linalg.norm(data_set - centers_new[i], axis=1)\n",
    "        # Assign all training data to closest center\n",
    "        clusters = np.argmin(distances, axis=1)\n",
    "\n",
    "        centers_old = deepcopy(centers_new)\n",
    "        # Calculate mean for every cluster and update the center\n",
    "        for i in range(K):\n",
    "            centers_new[i] = np.mean(data_set[clusters == i], axis=0)\n",
    "        error = np.linalg.norm(centers_new - centers_old)\n",
    "    return clusters\n"
   ]
  },
  {
   "cell_type": "code",
   "execution_count": 8,
   "metadata": {},
   "outputs": [],
   "source": [
    "c = Kmeans(K)\n",
    "Cluster_Final = pd.DataFrame(c)\n",
    "# Change the column names\n",
    "Cluster_Final.columns = ['Cluster_No.']"
   ]
  },
  {
   "cell_type": "code",
   "execution_count": 11,
   "metadata": {},
   "outputs": [],
   "source": [
    "# Change the row indexes\n",
    "Cluster_Final.index = [label]\n",
    "Cluster_Final.to_csv('Cluster.csv')"
   ]
  },
  {
   "cell_type": "code",
   "execution_count": null,
   "metadata": {},
   "outputs": [],
   "source": []
  }
 ],
 "metadata": {
  "kernelspec": {
   "display_name": "Python 3",
   "language": "python",
   "name": "python3"
  },
  "language_info": {
   "codemirror_mode": {
    "name": "ipython",
    "version": 3
   },
   "file_extension": ".py",
   "mimetype": "text/x-python",
   "name": "python",
   "nbconvert_exporter": "python",
   "pygments_lexer": "ipython3",
   "version": "3.7.3"
  }
 },
 "nbformat": 4,
 "nbformat_minor": 2
}
